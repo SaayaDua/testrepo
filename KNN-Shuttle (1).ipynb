{
 "cells": [
  {
   "cell_type": "code",
   "execution_count": 81,
   "metadata": {},
   "outputs": [],
   "source": [
    "import pandas as pd\n",
    "import numpy as np\n",
    "import matplotlib.pyplot as plt\n",
    "import seaborn as sb\n",
    "from sklearn.utils import shuffle\n",
    "%matplotlib inline\n",
    "from sklearn.utils import column_or_1d\n",
    "import sklearn.metrics as metrics\n",
    "from sklearn.model_selection import train_test_split\n",
    "from sklearn.preprocessing import StandardScaler\n",
    "from sklearn.preprocessing import LabelEncoder, OneHotEncoder\n",
    "from sklearn.neighbors import KNeighborsClassifier\n",
    "from pyod.models.hbos import HBOS\n",
    "from sklearn.neighbors import LocalOutlierFactor\n",
    "from sklearn.metrics import classification_report, confusion_matrix, accuracy_score\n",
    "from sklearn.preprocessing import MinMaxScaler"
   ]
  },
  {
   "cell_type": "code",
   "execution_count": 82,
   "metadata": {},
   "outputs": [
    {
     "name": "stdout",
     "output_type": "stream",
     "text": [
      "(46463, 10)\n",
      "   108.0  3.0  109.0  0.0  72.0   7.0  1.0   36.0  36.0.1  o\n",
      "0   81.0  0.0   84.0  0.0 -14.0  -2.0  4.0  100.0    96.0  o\n",
      "1   81.0  0.0   84.0  0.0 -20.0  16.0  4.0  105.0   102.0  o\n",
      "2   76.0 -1.0   81.0  0.0 -42.0  -3.0  5.0  125.0   120.0  o\n",
      "3  105.0  0.0  107.0  2.0  70.0   0.0  1.0   37.0    36.0  o\n",
      "4   79.0  0.0   83.0 -1.0 -40.0   7.0  4.0  124.0   120.0  o\n"
     ]
    }
   ],
   "source": [
    "shuttle=pd.read_csv(\"shuttle.csv\")\n",
    "print(shuttle.shape)\n",
    "print(shuttle.head())"
   ]
  },
  {
   "cell_type": "code",
   "execution_count": 83,
   "metadata": {},
   "outputs": [],
   "source": [
    "feature_vector=pd.DataFrame()\n",
    "feature_vector=shuttle.iloc[:,:-1]\n",
    "y=shuttle.iloc[:,-1:]\n",
    "y = column_or_1d(y, warn=False)"
   ]
  },
  {
   "cell_type": "code",
   "execution_count": 84,
   "metadata": {},
   "outputs": [],
   "source": [
    "X_train,X_test,y_train,y_test = train_test_split(feature_vector,y, test_size=0.3,random_state=49)\n",
    "scaler=MinMaxScaler(feature_range=(0,1))\n",
    "scaler.fit(X_train)\n",
    "n=0\n",
    "X_train=scaler.transform(X_train)\n",
    "X_test=scaler.transform(X_test)"
   ]
  },
  {
   "cell_type": "code",
   "execution_count": 85,
   "metadata": {},
   "outputs": [
    {
     "data": {
      "text/plain": [
       "[0.9996412942104885,\n",
       " 0.9996412942104885,\n",
       " 0.9996412942104885,\n",
       " 0.9994260707367817,\n",
       " 0.999497811894684,\n",
       " 0.9993543295788794,\n",
       " 0.9993543295788794,\n",
       " 0.9993543295788794,\n",
       " 0.9993543295788794,\n",
       " 0.9993543295788794,\n",
       " 0.9993543295788794,\n",
       " 0.9992825884209772,\n",
       " 0.9992825884209772,\n",
       " 0.9992825884209772,\n",
       " 0.9992825884209772,\n",
       " 0.9992825884209772,\n",
       " 0.9992825884209772,\n",
       " 0.9991391061051725,\n",
       " 0.9991391061051725,\n",
       " 0.9991391061051725,\n",
       " 0.9991391061051725,\n",
       " 0.9991391061051725,\n",
       " 0.9991391061051725,\n",
       " 0.9991391061051725]"
      ]
     },
     "execution_count": 85,
     "metadata": {},
     "output_type": "execute_result"
    }
   ],
   "source": [
    "score=[]\n",
    "\n",
    "for i in range(1,25):\n",
    "    classifier=KNeighborsClassifier(n_neighbors=i)\n",
    "    classifier.fit(X_train,y_train)\n",
    "    y_predict = classifier.predict(X_test)\n",
    "    n=accuracy_score(y_test,y_predict)\n",
    "    score.append(n)\n",
    "score"
   ]
  },
  {
   "cell_type": "code",
   "execution_count": 86,
   "metadata": {},
   "outputs": [
    {
     "name": "stdout",
     "output_type": "stream",
     "text": [
      "0\n",
      "1\n"
     ]
    }
   ],
   "source": [
    "max=0\n",
    "index=0\n",
    "for i in range(0,24):\n",
    "    if (score[i]>max):\n",
    "        max=score[i]\n",
    "        index=i\n",
    "print (index)\n",
    "k=index+1\n",
    "print(k)"
   ]
  },
  {
   "cell_type": "code",
   "execution_count": 87,
   "metadata": {},
   "outputs": [
    {
     "data": {
      "text/plain": [
       "0.9991391061051725"
      ]
     },
     "execution_count": 87,
     "metadata": {},
     "output_type": "execute_result"
    }
   ],
   "source": [
    "classifier=KNeighborsClassifier(n_neighbors=20)\n",
    "classifier.fit(X_train,y_train)\n",
    "y_predict = classifier.predict(X_test)\n",
    "accuracy_score(y_test,y_predict)"
   ]
  },
  {
   "cell_type": "code",
   "execution_count": 88,
   "metadata": {},
   "outputs": [
    {
     "data": {
      "text/plain": [
       "[<matplotlib.lines.Line2D at 0x17d88806388>]"
      ]
     },
     "execution_count": 88,
     "metadata": {},
     "output_type": "execute_result"
    },
    {
     "data": {
      "image/png": "[encoded data removed]",
      "text/plain": [
       "<Figure size 432x288 with 1 Axes>"
      ]
     },
     "metadata": {
      "needs_background": "light"
     },
     "output_type": "display_data"
    }
   ],
   "source": [
    "plt.plot(range(1,25),score)"
   ]
  },
  {
   "cell_type": "code",
   "execution_count": 89,
   "metadata": {},
   "outputs": [
    {
     "name": "stdout",
     "output_type": "stream",
     "text": [
      "[0.9802858126721763, 0.9984504132231405, 0.9269111570247934, 0.9981921487603306, 0.9609159779614325, 0.9304407713498623, 0.9504132231404959, 0.9163223140495868, 0.93741391184573, 0.9294938016528925, 0.9286329201101928, 0.9275998622589532, 0.9177858126721763, 0.9224345730027548, 0.9160640495867769, 0.9174414600550964, 0.9189910468319559, 0.9243285123966942, 0.9169249311294766, 0.9195075757575758, 0.9173553719008265, 0.915891873278237, 0.9181301652892562, 0.9190771349862259, 0.9226928374655647, 0.9143422865013774, 0.918732782369146, 0.9273415977961432, 0.9176136363636364]\n",
      "[[10457   930]\n",
      " [    5   224]]\n"
     ]
    },
    {
     "data": {
      "text/plain": [
       "0.9195075757575758"
      ]
     },
     "execution_count": 89,
     "metadata": {},
     "output_type": "execute_result"
    },
    {
     "data": {
      "image/png": "[encoded data removed]",
      "text/plain": [
       "<Figure size 432x288 with 1 Axes>"
      ]
     },
     "metadata": {
      "needs_background": "light"
     },
     "output_type": "display_data"
    }
   ],
   "source": [
    "encoder = LabelEncoder()\n",
    "y = encoder.fit_transform(y)\n",
    "X_train, X_test, y_train, y_test = train_test_split(feature_vector, y, test_size = 0.25, random_state = 1)\n",
    "sc = StandardScaler()\n",
    "X_train = sc.fit_transform(X_train)\n",
    "X_test = sc.transform(X_test)\n",
    "\n",
    "n=[]\n",
    "for i in range (1,30):\n",
    "    clf=HBOS(n_bins=i)\n",
    "    clf.fit(X_train)\n",
    "\n",
    "    y_train_pred=clf.labels_\n",
    "    y_train_scores=clf.decision_scores_\n",
    "\n",
    "    y_test_pred=clf.predict(X_test)\n",
    "    y_test_score=clf.decision_function(X_test)\n",
    "    n.append(accuracy_score(y_test,y_test_pred))\n",
    "print((n))\n",
    "n2=[]\n",
    "for i in range (0,29):\n",
    "    n2.append(1-n[i])\n",
    "\n",
    "plt.plot(range(1,30),n2)\n",
    "\n",
    "clf=HBOS(n_bins=20)\n",
    "clf.fit(X_train)\n",
    "\n",
    "y_train_pred=clf.labels_\n",
    "y_train_scores=clf.decision_scores_\n",
    "\n",
    "y_test_pred=clf.predict(X_test)\n",
    "y_test_score=clf.decision_function(X_test)\n",
    "cm=confusion_matrix(y_test,y_test_pred)\n",
    "print(cm)\n",
    "accuracy_score(y_test,y_test_pred)"
   ]
  },
  {
   "cell_type": "code",
   "execution_count": 109,
   "metadata": {},
   "outputs": [
    {
     "name": "stdout",
     "output_type": "stream",
     "text": [
      "[0 0 0 ... 0 0 0]\n",
      "[0 0 0 ... 0 0 0]\n"
     ]
    },
    {
     "data": {
      "image/png": "[encoded data removed]",
      "text/plain": [
       "<Figure size 432x288 with 1 Axes>"
      ]
     },
     "metadata": {
      "needs_background": "light"
     },
     "output_type": "display_data"
    }
   ],
   "source": [
    "X=shuttle.iloc[:,:-1]\n",
    "encoder = LabelEncoder()\n",
    "y = encoder.fit_transform(y)\n",
    "\n",
    "X_train, X_test, y_train, y_test = train_test_split(X, y, test_size = 0.3, random_state = 2)\n",
    "\n",
    "sc = StandardScaler()\n",
    "X_train = sc.fit_transform(X_train)\n",
    "X_test = sc.transform(X_test)\n",
    "print(y_train)\n",
    "print(y_test)\n",
    "\n",
    "\n",
    "error=[]\n",
    "r=2\n",
    "for i in range(1,r):\n",
    "    clf=LocalOutlierFactor(n_neighbors=20,contamination=0.01)\n",
    "    y_pred=clf.fit_predict(X)\n",
    "    for i in range (0,y_pred.size):\n",
    "        if (y_pred[i]==1):\n",
    "            y_pred[i]=0\n",
    "    for i in range (0,y_pred.size):\n",
    "        if (y_pred[i]==-1):\n",
    "            y_pred[i]=1\n",
    "    accuracy_score(y,y_pred)\n",
    "    n_errors =(y_pred != y).sum()\n",
    "    error.append(n_errors/y.size)\n",
    "plt.plot(range(1,r),error)\n",
    "\n",
    "fpr,tpr,threshold=metrics.roc_curve(y_pred,y)\n",
    "roc_auc=metrics.auc(fpr,tpr)\n",
    "\n",
    "plt.plot(fpr,tpr,roc_auc)\n",
    "plt.show()"
   ]
  },
  {
   "cell_type": "code",
   "execution_count": 110,
   "metadata": {},
   "outputs": [
    {
     "name": "stdout",
     "output_type": "stream",
     "text": [
      "0.025956137141381314\n",
      "0.5643244189672576\n"
     ]
    }
   ],
   "source": [
    "print(min(error))\n",
    "print(roc_auc)"
   ]
  },
  {
   "cell_type": "code",
   "execution_count": null,
   "metadata": {},
   "outputs": [],
   "source": []
  }
 ],
 "metadata": {
  "kernelspec": {
   "display_name": "Python 3",
   "language": "python",
   "name": "python3"
  },
  "language_info": {
   "codemirror_mode": {
    "name": "ipython",
    "version": 3
   },
   "file_extension": ".py",
   "mimetype": "text/x-python",
   "name": "python",
   "nbconvert_exporter": "python",
   "pygments_lexer": "ipython3",
   "version": "3.7.6"
  }
 },
 "nbformat": 4,
 "nbformat_minor": 4
}
